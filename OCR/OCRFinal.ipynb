{
  "nbformat": 4,
  "nbformat_minor": 0,
  "metadata": {
    "colab": {
      "provenance": [],
      "collapsed_sections": [
        "Ah3kHq8_EZRS",
        "t3Wlf1buEZIy",
        "ilhSgBqCElFq"
      ]
    },
    "kernelspec": {
      "name": "python3",
      "display_name": "Python 3"
    },
    "language_info": {
      "name": "python"
    }
  },
  "cells": [
    {
      "cell_type": "markdown",
      "source": [
        "##Pytesseract"
      ],
      "metadata": {
        "id": "Ah3kHq8_EZRS"
      }
    },
    {
      "cell_type": "code",
      "source": [
        "# https://nanonets.com/blog/ocr-with-tesseract/#:~:text=Tesseract%20is%20an%20open%20source,a%20wide%20variety%20of%20languages.\n",
        "!sudo apt install tesseract-ocr"
      ],
      "metadata": {
        "id": "woQhPWNG81IO"
      },
      "execution_count": null,
      "outputs": []
    },
    {
      "cell_type": "code",
      "source": [
        "!pip install pytesseract"
      ],
      "metadata": {
        "colab": {
          "base_uri": "https://localhost:8080/",
          "height": 375
        },
        "id": "IBJmCgQA9kV6",
        "outputId": "994f98d5-7a1e-49f0-e990-76bda987fd7e"
      },
      "execution_count": 4,
      "outputs": [
        {
          "output_type": "stream",
          "name": "stdout",
          "text": [
            "Looking in indexes: https://pypi.org/simple, https://us-python.pkg.dev/colab-wheels/public/simple/\n",
            "Collecting pytesseract\n",
            "  Downloading pytesseract-0.3.10-py3-none-any.whl (14 kB)\n",
            "Collecting Pillow>=8.0.0\n",
            "  Downloading Pillow-9.2.0-cp37-cp37m-manylinux_2_17_x86_64.manylinux2014_x86_64.whl (3.1 MB)\n",
            "\u001b[K     |████████████████████████████████| 3.1 MB 8.2 MB/s \n",
            "\u001b[?25hRequirement already satisfied: packaging>=21.3 in /usr/local/lib/python3.7/dist-packages (from pytesseract) (21.3)\n",
            "Requirement already satisfied: pyparsing!=3.0.5,>=2.0.2 in /usr/local/lib/python3.7/dist-packages (from packaging>=21.3->pytesseract) (3.0.9)\n",
            "Installing collected packages: Pillow, pytesseract\n",
            "  Attempting uninstall: Pillow\n",
            "    Found existing installation: Pillow 7.1.2\n",
            "    Uninstalling Pillow-7.1.2:\n",
            "      Successfully uninstalled Pillow-7.1.2\n",
            "Successfully installed Pillow-9.2.0 pytesseract-0.3.10\n"
          ]
        },
        {
          "output_type": "display_data",
          "data": {
            "application/vnd.colab-display-data+json": {
              "pip_warning": {
                "packages": [
                  "PIL"
                ]
              }
            }
          },
          "metadata": {}
        }
      ]
    },
    {
      "cell_type": "code",
      "execution_count": 3,
      "metadata": {
        "colab": {
          "base_uri": "https://localhost:8080/"
        },
        "id": "33mPiOFH8Shp",
        "outputId": "b3f6c66e-c24c-4753-a597-2779cd7fa71d"
      },
      "outputs": [
        {
          "output_type": "stream",
          "name": "stdout",
          "text": [
            "Mr. YASH JHAVERI Reference: Dr.SAMRAT D SHAH ‘VID: 81180105507\n",
            "\n",
            "GOVALAI TANK ‘Sample Collected At: Registered On:\n",
            "TelNo : 8898078870 SHREE PALANPURI STANKAVASIJAIN | 3/2018 03:54 AM\n",
            "PIDNO: P81170008528 CIO , SAMIR DIAMONDS 910 PRASAD. Collected On:\n",
            "‘Age: 17 Year(s) Sex: Male CHAMBERS STH FLOOR OPERA. 13/06/2018 9:54AM\n",
            "HOUSE MUMBAI 400004\n",
            "House Reported On:\n",
            "\n",
            " \n",
            "\n",
            "19/06/2018 01:18 PM\n",
            "\n",
            " \n",
            "\n",
            "CBC Haemogram\n",
            "Investigation ‘Observed Value nit Biological Reference Interv:\n",
            "Erythrocytes\n",
            "\n",
            "Haemoglobin (Hb) 136 gmat. 125-165\n",
            "Erythrocyte (RBC) Count 5.15 milvcumm = 4.2.56\n",
            "PCV (Packed Cell Volume) 409 % 36-47\n",
            "\n",
            "‘MCV (Mean Corpuscular Volume) 79.4 cf 78-95\n",
            "\n",
            "MCH (Mean Corpuscular Hb) 26.4 Pg 26-32\n",
            "MCHC (Mean Corpuscular Hb Concn.) 33.3 gid 32-36\n",
            "\n",
            "DW (Red Cell Distribution Width) 12.8 % 11.5-14.0\n",
            "Leucocytes\n",
            "\n",
            "Total Leucocytes (WBC) count 5,700 celisicumm 4000-10500\n",
            "Absolute Neutrophils Count 2622 Jomm 2000-7000\n",
            "Absolute Lymphocyte Count 2280 fomm 1000-3000\n",
            "Absolute Monocyte Count 285 fomm 200-1000\n",
            "Absolute Eosinophil Count 456 fomm 20-500\n",
            "Absolute Basophil Count 7 fomm 20-100\n",
            "Neutrophils 46 % 44-76\n",
            "Lymphocytes 40 % 15-43\n",
            "‘Monocytes 5 % 4090\n",
            "Eosinophils 8 % 06\n",
            "Basophils 1 % 0-2\n",
            "Platelets\n",
            "\n",
            "Platelet count 245 10°3 / yl 150-450\n",
            "‘MPV (Mean Platelet Volume) 29 cf 695\n",
            "\n",
            "PCT ( Platelet Haematocrit) 0.24 % 0.2.05\n",
            "PDW (Platelet Distribution Width) 11.5 % O17\n",
            "\n",
            "EDTA Whole Blood - Tests done on Automated Five Part Cell Counter. (WBC, RBC Platelet count by impedance method, WBC\n",
            "differential by VCS technology other parameters calculated) All Abnormal Haemograms are reviewed confirmed microscopically.\n",
            "Differential count is based on approximately 10,000 cells.\n",
            "\f\n"
          ]
        }
      ],
      "source": [
        "import cv2\n",
        "import pytesseract\n",
        "from pytesseract import Output\n",
        "\n",
        "img = cv2.imread('/content/1.png')\n",
        "\n",
        "# d = pytesseract.image_to_data(img, output_type=Output.DICT)\n",
        "extractedInformation = pytesseract.image_to_string('/content/1.png')\n",
        "print(extractedInformation)"
      ]
    },
    {
      "cell_type": "markdown",
      "source": [
        "##PDF plumber"
      ],
      "metadata": {
        "id": "t3Wlf1buEZIy"
      }
    },
    {
      "cell_type": "code",
      "source": [
        "!apt-get install ocrmypdf -q\n",
        "!pip install pdfplumber -q\n",
        "import os\n",
        "\n",
        "import requests\n",
        "import pdfplumber"
      ],
      "metadata": {
        "id": "U0UvjqR-_grG"
      },
      "execution_count": null,
      "outputs": []
    },
    {
      "cell_type": "code",
      "source": [
        "invoice_pdf='/content/report1.pdf'\n",
        "with pdfplumber.open(invoice_pdf) as pdf:\n",
        "    page = pdf.pages[0]\n",
        "    text = page.extract_text()\n",
        "    print(text)"
      ],
      "metadata": {
        "colab": {
          "base_uri": "https://localhost:8080/"
        },
        "id": "ytOcWnBu_mMY",
        "outputId": "b5d7469e-152c-4a53-a2fb-e6d2cd48083f"
      },
      "execution_count": 5,
      "outputs": [
        {
          "output_type": "stream",
          "name": "stdout",
          "text": [
            "Mr. YASH JHAVERI Reference: Dr.SAMRAT D SHAH VID: 81180105507\n",
            "GOVALAI TANK   Sample Collected At:   Registered On:\n",
            "Tel No  : 8898078870 SHREE PALANPURI STANKAVASI JAIN  13/06/2018 09:54 AM\n",
            "ASSOCIATION\n",
            "PID NO: P81170008528 C/O , SAMIR DIAMONDS 910 PRASAD  Collected On:\n",
            "Age: 17 Year(s) Sex: Male CHAMBERS 9TH FLOOR OPERA  13/06/2018 9:54AM\n",
            "HOUSE MUMBAI 400004 Reported On:\n",
            "400004\n",
            "13/06/2018 01:18 PM\n",
            "CBC Haemogram\n",
            "Investigation Observed Value Unit Biological Reference Interval\n",
            "Erythrocytes\n",
            "Haemoglobin (Hb) 13.6 gm/dL 12.5-16.5\n",
            "Erythrocyte (RBC) Count  5.15 mill/cu.mm 4.2-5.6\n",
            "PCV (Packed Cell Volume)  40.9 % 36-47\n",
            "MCV (Mean Corpuscular Volume) 79.4 fL 78-95\n",
            "MCH (Mean Corpuscular Hb)  26.4 pg 26-32\n",
            "MCHC (Mean Corpuscular Hb Concn.)  33.3 g/dL 32-36\n",
            "RDW (Red Cell Distribution Width)  12.8 % 11.5-14.0\n",
            "Leucocytes\n",
            "Total Leucocytes (WBC) count  5,700 cells/cu.mm 4000-10500\n",
            "Absolute Neutrophils Count 2622 /c.mm 2000-7000\n",
            "Absolute Lymphocyte Count 2280 /c.mm 1000-3000\n",
            "Absolute Monocyte Count 285 /c.mm 200-1000\n",
            "Absolute Eosinophil Count 456 /c.mm 20-500\n",
            "Absolute Basophil Count  57 /c.mm 20-100\n",
            "Neutrophils  46 % 44-76\n",
            "Lymphocytes  40 % 15-43\n",
            "Monocytes  5 % 4.0-9.0\n",
            "Eosinophils  8 % 0-6\n",
            "Basophils  1 % 0-2\n",
            "Platelets\n",
            "Platelet count  245 10^3 / µl 150-450\n",
            "MPV (Mean Platelet Volume)  9.9 fL 6-9.5\n",
            "PCT ( Platelet Haematocrit)  0.24 % 0.2-0.5\n",
            "PDW (Platelet Distribution Width)  11.5 % 9-17\n",
            "EDTA Whole Blood - Tests done on Automated Five Part Cell Counter. (WBC, RBC Platelet count by impedance method, WBC \n",
            "differential by VCS technology other parameters calculated) All Abnormal Haemograms are reviewed confirmed microscopically. \n",
            "Differential count is based on approximately 10,000 cells.\n",
            "Dr. Pooja Trehan\n",
            "Page 1 of 4\n",
            "MD Pathology\n"
          ]
        }
      ]
    },
    {
      "cell_type": "markdown",
      "source": [
        "##Easy OCR"
      ],
      "metadata": {
        "id": "ilhSgBqCElFq"
      }
    },
    {
      "cell_type": "code",
      "source": [
        "!pip3 install easyocr"
      ],
      "metadata": {
        "colab": {
          "base_uri": "https://localhost:8080/",
          "height": 929
        },
        "id": "yl7eyQ9nBo6H",
        "outputId": "bb32d10a-8ca7-47ae-a97f-f8ef0eb6dda9"
      },
      "execution_count": 7,
      "outputs": [
        {
          "output_type": "stream",
          "name": "stdout",
          "text": [
            "Looking in indexes: https://pypi.org/simple, https://us-python.pkg.dev/colab-wheels/public/simple/\n",
            "Collecting easyocr\n",
            "  Downloading easyocr-1.6.2-py3-none-any.whl (2.9 MB)\n",
            "\u001b[K     |████████████████████████████████| 2.9 MB 8.6 MB/s \n",
            "\u001b[?25hRequirement already satisfied: torchvision>=0.5 in /usr/local/lib/python3.7/dist-packages (from easyocr) (0.13.1+cu113)\n",
            "Requirement already satisfied: Shapely in /usr/local/lib/python3.7/dist-packages (from easyocr) (1.8.4)\n",
            "Requirement already satisfied: numpy in /usr/local/lib/python3.7/dist-packages (from easyocr) (1.21.6)\n",
            "Collecting opencv-python-headless<=4.5.4.60\n",
            "  Downloading opencv_python_headless-4.5.4.60-cp37-cp37m-manylinux_2_17_x86_64.manylinux2014_x86_64.whl (47.6 MB)\n",
            "\u001b[K     |████████████████████████████████| 47.6 MB 2.6 MB/s \n",
            "\u001b[?25hRequirement already satisfied: PyYAML in /usr/local/lib/python3.7/dist-packages (from easyocr) (6.0)\n",
            "Requirement already satisfied: torch in /usr/local/lib/python3.7/dist-packages (from easyocr) (1.12.1+cu113)\n",
            "Collecting pyclipper\n",
            "  Downloading pyclipper-1.3.0.post3-cp37-cp37m-manylinux_2_5_x86_64.manylinux1_x86_64.whl (604 kB)\n",
            "\u001b[K     |████████████████████████████████| 604 kB 59.6 MB/s \n",
            "\u001b[?25hCollecting ninja\n",
            "  Downloading ninja-1.10.2.3-py2.py3-none-manylinux_2_5_x86_64.manylinux1_x86_64.whl (108 kB)\n",
            "\u001b[K     |████████████████████████████████| 108 kB 56.2 MB/s \n",
            "\u001b[?25hCollecting python-bidi\n",
            "  Downloading python_bidi-0.4.2-py2.py3-none-any.whl (30 kB)\n",
            "Requirement already satisfied: scipy in /usr/local/lib/python3.7/dist-packages (from easyocr) (1.7.3)\n",
            "Requirement already satisfied: Pillow in /usr/local/lib/python3.7/dist-packages (from easyocr) (9.2.0)\n",
            "Requirement already satisfied: scikit-image in /usr/local/lib/python3.7/dist-packages (from easyocr) (0.18.3)\n",
            "Requirement already satisfied: requests in /usr/local/lib/python3.7/dist-packages (from torchvision>=0.5->easyocr) (2.23.0)\n",
            "Requirement already satisfied: typing-extensions in /usr/local/lib/python3.7/dist-packages (from torchvision>=0.5->easyocr) (4.1.1)\n",
            "Requirement already satisfied: six in /usr/local/lib/python3.7/dist-packages (from python-bidi->easyocr) (1.15.0)\n",
            "Requirement already satisfied: certifi>=2017.4.17 in /usr/local/lib/python3.7/dist-packages (from requests->torchvision>=0.5->easyocr) (2022.6.15)\n",
            "Requirement already satisfied: chardet<4,>=3.0.2 in /usr/local/lib/python3.7/dist-packages (from requests->torchvision>=0.5->easyocr) (3.0.4)\n",
            "Requirement already satisfied: idna<3,>=2.5 in /usr/local/lib/python3.7/dist-packages (from requests->torchvision>=0.5->easyocr) (2.10)\n",
            "Requirement already satisfied: urllib3!=1.25.0,!=1.25.1,<1.26,>=1.21.1 in /usr/local/lib/python3.7/dist-packages (from requests->torchvision>=0.5->easyocr) (1.24.3)\n",
            "Requirement already satisfied: tifffile>=2019.7.26 in /usr/local/lib/python3.7/dist-packages (from scikit-image->easyocr) (2021.11.2)\n",
            "Requirement already satisfied: PyWavelets>=1.1.1 in /usr/local/lib/python3.7/dist-packages (from scikit-image->easyocr) (1.3.0)\n",
            "Requirement already satisfied: networkx>=2.0 in /usr/local/lib/python3.7/dist-packages (from scikit-image->easyocr) (2.6.3)\n",
            "Requirement already satisfied: matplotlib!=3.0.0,>=2.0.0 in /usr/local/lib/python3.7/dist-packages (from scikit-image->easyocr) (3.2.2)\n",
            "Requirement already satisfied: imageio>=2.3.0 in /usr/local/lib/python3.7/dist-packages (from scikit-image->easyocr) (2.9.0)\n",
            "Requirement already satisfied: python-dateutil>=2.1 in /usr/local/lib/python3.7/dist-packages (from matplotlib!=3.0.0,>=2.0.0->scikit-image->easyocr) (2.8.2)\n",
            "Requirement already satisfied: cycler>=0.10 in /usr/local/lib/python3.7/dist-packages (from matplotlib!=3.0.0,>=2.0.0->scikit-image->easyocr) (0.11.0)\n",
            "Requirement already satisfied: kiwisolver>=1.0.1 in /usr/local/lib/python3.7/dist-packages (from matplotlib!=3.0.0,>=2.0.0->scikit-image->easyocr) (1.4.4)\n",
            "Requirement already satisfied: pyparsing!=2.0.4,!=2.1.2,!=2.1.6,>=2.0.1 in /usr/local/lib/python3.7/dist-packages (from matplotlib!=3.0.0,>=2.0.0->scikit-image->easyocr) (3.0.9)\n",
            "Installing collected packages: python-bidi, pyclipper, opencv-python-headless, ninja, easyocr\n",
            "  Attempting uninstall: opencv-python-headless\n",
            "    Found existing installation: opencv-python-headless 4.6.0.66\n",
            "    Uninstalling opencv-python-headless-4.6.0.66:\n",
            "      Successfully uninstalled opencv-python-headless-4.6.0.66\n",
            "Successfully installed easyocr-1.6.2 ninja-1.10.2.3 opencv-python-headless-4.5.4.60 pyclipper-1.3.0.post3 python-bidi-0.4.2\n"
          ]
        },
        {
          "output_type": "display_data",
          "data": {
            "application/vnd.colab-display-data+json": {
              "pip_warning": {
                "packages": [
                  "cv2"
                ]
              }
            }
          },
          "metadata": {}
        }
      ]
    },
    {
      "cell_type": "code",
      "source": [
        "import os\n",
        "import easyocr\n",
        "import cv2\n",
        "from matplotlib import pyplot as plt\n",
        "import numpy as np"
      ],
      "metadata": {
        "id": "bTo5rJGcDPTA"
      },
      "execution_count": 8,
      "outputs": []
    },
    {
      "cell_type": "code",
      "source": [
        "reader = easyocr.Reader(['en'])\n",
        "result = reader.readtext('/content/1.png',paragraph=\"False\")\n",
        "result"
      ],
      "metadata": {
        "colab": {
          "base_uri": "https://localhost:8080/"
        },
        "id": "dzuy9YbEDbtX",
        "outputId": "78f95fe1-703a-43f8-8118-64013cf0c7d3"
      },
      "execution_count": 9,
      "outputs": [
        {
          "output_type": "stream",
          "name": "stderr",
          "text": [
            "WARNING:easyocr.easyocr:CUDA not available - defaulting to CPU. Note: This module is much faster with a GPU.\n",
            "WARNING:easyocr.easyocr:Downloading detection model, please wait. This may take several minutes depending upon your network connection.\n"
          ]
        },
        {
          "output_type": "stream",
          "name": "stdout",
          "text": [
            "Progress: |██████████████████████████████████████████████████| 100.0% Complete"
          ]
        },
        {
          "output_type": "stream",
          "name": "stderr",
          "text": [
            "WARNING:easyocr.easyocr:Downloading recognition model, please wait. This may take several minutes depending upon your network connection.\n"
          ]
        },
        {
          "output_type": "stream",
          "name": "stdout",
          "text": [
            "Progress: |██████████████████████████████████████████████████| 100.0% Complete"
          ]
        },
        {
          "output_type": "execute_result",
          "data": {
            "text/plain": [
              "[[[[101, 7], [267, 7], [267, 87], [101, 87]],\n",
              "  'Mr. YASH JHAVERI GOVALAI TANK Tel No 8898078870 PID NO: P81170008528 Age: 17 Year(s_ Sex: Male'],\n",
              " [[[341, 5], [697, 5], [697, 117], [341, 117]],\n",
              "  'Referenco= Dr SAMRAT SHAH VID: 81180105507 Sample Collected At: Registered On: SHREE PALANPURI STANKAVASI JAIN 13/06/2018 09.54 AM ASSOCIATION SAMIR DIAMONDS 910 PRASAD Collected On CHAMBERS 9TH FLOOR OPERA 13/06/2018 9.54AM HOUSE MUMBAI 400004 Reported On- 400004 13/06/2018 01.18 PM'],\n",
              " [[[281, 185], [461, 185], [461, 221], [281, 221]],\n",
              "  'CBC Haemogram Qbserved_Value Hn'],\n",
              " [[[42, 205], [697, 205], [697, 741], [42, 741]],\n",
              "  'Iyestiqatlon BlolalcaL Reference lntery Erthrocytes Haemoglobin (Hb) 13.6 gndL 12.5-16.5 Erythrocyte (RBC) Count milllcu mm 4.2-5.6 PCV Packed Cell Volume) 36-47 MCV (Mean Corpuscular Volume) 78-95 MCH (Mean Corpuscular Hb) 26-32 MCHC (Mean Corpuscular Hb Concn:) gldL 32-36 RDW Red Cell Distribution Width) 11.5-14.0 Leucocytes Total Leucocytes (WBC) count 700 cellsicu.mm 4000-10500 Absolute Neutrophils Count 2622 Ic.mm 2000-7000 Absolute Lymphocyte Count 2280 C.mm 1000-3000 Absolute Monocyte Count 285 Ic.mm 200-1000 Absolute Eosinophil Count 456 C.mm 20-500 Absolute Basophil Count {c_mm 20-100 Neutrophils 44-76 Lymphocytes 15-43 Monocytes 0-9.0 Eosinophils Basophils 0-2 Platelets Platelet count 245 10^3 150-450 MPV (Mean Platelet Volume) 92 6-9.5 PCT Platelet Haematocrit) 2-0.5 PDW (Platelet Distribution Width) 11.5 9-17 EDTA Whole Blood Tests done o Automated Five Pan Cell Counter- (WBC , RBC Platelet count by impedance method, WBC differential by VCS technology other parameters calculated) All Abnormal Haemograms are reviewed confirmed microscopically. Differential count is based on approximately 10,000 cells:']]"
            ]
          },
          "metadata": {},
          "execution_count": 9
        }
      ]
    }
  ]
}